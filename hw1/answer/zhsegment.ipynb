{
 "cells": [
  {
   "cell_type": "markdown",
   "metadata": {},
   "source": [
    "# Zhsegment"
   ]
  },
  {
   "cell_type": "markdown",
   "metadata": {},
   "source": [
    "This homowork is on Chinese word segmentation. \n",
    "The F-score for bigram and smoothing solution is 0.92."
   ]
  },
  {
   "cell_type": "markdown",
   "metadata": {},
   "source": [
    "### 1. Implementation of Baseline System"
   ]
  },
  {
   "cell_type": "markdown",
   "metadata": {},
   "source": [
    "We applied the Iterative Segmenter Algorithm to implement the baseline system by incorporating it into the Segment class and the Entry class of the file. Also, some classes and functions in homework 0 are reused in this task. Below are the Segment and Entry class:"
   ]
  },
  {
   "cell_type": "code",
   "execution_count": 67,
   "metadata": {},
   "outputs": [],
   "source": [
    "class Segment:\n",
    "\n",
    "    def __init__(self, Pw):\n",
    "        self.Pw = Pw\n",
    "    \n",
    "    def segment(self, text):\n",
    "        \"Return a list of words that is the best segmentation of text.\"\n",
    "        if not text: return []\n",
    "        if len(text) == 1: return [text]\n",
    "        ## Initialize the heap ##\n",
    "        heap = []\n",
    "        chart = [None] * len(text)\n",
    "        for i in range(0,len(text)):\n",
    "            word = text[:i+1]\n",
    "            \" TODO: set the maximum length of unknown word \"\n",
    "            if self.Pw.contains(word) or len(word) <= 1: \n",
    "                heappush(heap, Entry(word, 0, self.Pw(word)))\n",
    "\n",
    "        ## Iteratively fill in chart[i] for all i ##\n",
    "        while heap:\n",
    "            entry = heappop(heap)\n",
    "            #print(entry)\n",
    "            #print(len(heap))\n",
    "            endindex = len(entry.word) - 1 + entry.startpos\n",
    "            if chart[endindex]:\n",
    "                preventry = chart[endindex]\n",
    "                if entry.logprob > preventry.logprob:\n",
    "                    chart[endindex] = entry\n",
    "                else:\n",
    "                    continue\n",
    "            else:\n",
    "                chart[endindex] = entry\n",
    "            for i in range(endindex+1,len(text)):\n",
    "                word = text[endindex+1:i+1]\n",
    "                \"TODO: set the maximum length of unknown word \"\n",
    "                if self.Pw.contains(word) or len(word) <= 1:\n",
    "                    newentry = Entry(word, endindex+1, entry.logprob + self.Pw(word), entry)\n",
    "                    if not newentry in heap:\n",
    "                        heappush(heap, newentry) \n",
    "\n",
    "        ## Get the best segmentation ##\n",
    "        finalindex = len(text) - 1\n",
    "        finalentry = chart[finalindex]\n",
    "        segmentation = []\n",
    "        while finalentry:\n",
    "            segmentation.insert(0,finalentry.word)\n",
    "            finalentry = finalentry.backptr\n",
    "        return segmentation\n",
    "    \n",
    "class Entry:\n",
    "    def __init__(self, word, startpos, logprob, backptr=None):\n",
    "        self.word = word\n",
    "        self.startpos = startpos\n",
    "        self.logprob = logprob\n",
    "        self.backptr = backptr\n",
    "    \n",
    "    def __lt__(self, other):\n",
    "        return (self.startpos, self.logprob) < (other.startpos, other.logprob)\n",
    "\n",
    "    def __eq__(self, other):\n",
    "        return (self.word, self.startpos, self.logprob, self.backptr) == (other.word, other.startpos, other.logprob, other.backptr)\n",
    "\n",
    "    def __str__(self):\n",
    "        return 'Entry(word='+self.word+', logprob='+str(self.logprob)+ ')'"
   ]
  },
  {
   "cell_type": "markdown",
   "metadata": {},
   "source": [
    "Two problems occur when we test and improve this implementation with dev.txt\n",
    "1.Orignal alogrithm (improve score 0.89 to 0.92)\n",
    "    \n",
    "The orignal alogrithm in hw0 will produce missing lines dev.out which can only produce up to 0.89 in dev.out result. After we see this problem, we know that we need to add a initial probability to the heap when the entire line is unknown word in the initialization, so we added the probability to heap when the word length = 1, which is the beginning word of each sentence.  And we are able to improve the score from 0.89 to 0.92.\n",
    "    \n",
    "2.The running time is long.\n",
    "   \n",
    "So when pushing new entries, we set the limit of allowing the word with maximun length equal to 6 during the initializaion heap, since it is very unlikely to be a word for length more than 6 in known word after examing the \"count_1w\" and \"count_2w\"). So in later implementations (see below), we do not check a word with length larger than 6. \n",
    "\n",
    "3.Althought the score is 0.92 on unigram, but it may help on the improvement with jelinek mercer smoothing. We decided to combine the bigram model and smoothing technique to create another implementation as shown in Section 2.\n",
    "\n",
    "we have tried the split out the some part of test.out (small test.out) for testing, and the original score (which has 0.92 score on dev.out) result a 0.76 on small test.txt. After we applied smoothing, tune the parameters lambda and set the word length to 2 which methoned is part 1 above, we are able get the results improved from 0.79 to 0.76, but dev.txt keeps at 0.92.\n",
    "    \n",
    "From result of 3, it makes sense that the improvement is significant on test.txt instead of dev.txt since the ideal of smoothing is to provide better overall improvements on unknown words. And, test.out characters should have more unknown than dev.txt"
   ]
  },
  {
   "cell_type": "markdown",
   "metadata": {},
   "source": [
    "### 2. Improvement with Bigram and Smoothing\n"
   ]
  },
  {
   "cell_type": "code",
   "execution_count": 68,
   "metadata": {},
   "outputs": [],
   "source": [
    "from zhsegment import * "
   ]
  },
  {
   "cell_type": "markdown",
   "metadata": {},
   "source": [
    "To use bigram, first we create a instance of Pdist class to get a probability distribution estimated from counts in \"count_2w.txt\" and \"count_1w.txt\""
   ]
  },
  {
   "cell_type": "code",
   "execution_count": 69,
   "metadata": {},
   "outputs": [],
   "source": [
    "class Pdist(dict):\n",
    "    \"A probability distribution estimated from counts in datafile.\"\n",
    "    def __init__(self, data=[], N=None, missingfn=None):\n",
    "        for key,count in data:\n",
    "            self[key] = self.get(key, 0) + int(count)\n",
    "        self.N = float(N or sum(self.values()))\n",
    "        self.missingfn = missingfn or (lambda k, N: 1./N)\n",
    "    def __call__(self, key): \n",
    "        if key in self: \n",
    "            return self[key]/(self.N *len(key)/2)\n",
    "        else: \n",
    "            return self.missingfn(key, self.N)\n",
    "        \n",
    "PBi = Pdist(data=datafile(\"../data/count_2w.txt\"), missingfn=returnZero)\n",
    "PUi = Pdist(data=datafile(\"../data/count_1w.txt\"), missingfn=reduce_probability_for_long_word)"
   ]
  },
  {
   "cell_type": "markdown",
   "metadata": {},
   "source": [
    "Now, we can use PBi to compute a probability estimated from the dataset, below is an example:"
   ]
  },
  {
   "cell_type": "code",
   "execution_count": 70,
   "metadata": {},
   "outputs": [
    {
     "data": {
      "text/plain": [
       "4.230068738617002e-05"
      ]
     },
     "execution_count": 70,
     "metadata": {},
     "output_type": "execute_result"
    }
   ],
   "source": [
    "PBi('发达 国家')"
   ]
  },
  {
   "cell_type": "code",
   "execution_count": 71,
   "metadata": {},
   "outputs": [
    {
     "data": {
      "text/plain": [
       "0.00019975324599024735"
      ]
     },
     "execution_count": 71,
     "metadata": {},
     "output_type": "execute_result"
    }
   ],
   "source": [
    "PUi('发达')"
   ]
  },
  {
   "cell_type": "markdown",
   "metadata": {},
   "source": [
    "Next, we create a function cPw(word, prev) to compute the conditional probability P(word | prev)."
   ]
  },
  {
   "cell_type": "code",
   "execution_count": 72,
   "metadata": {},
   "outputs": [],
   "source": [
    "def cPw(word, prev):\n",
    "    try:\n",
    "       value = PBi(prev + ' ' + word)/float(PUi(prev))\n",
    "       return value\n",
    "    except KeyError:\n",
    "       return PUi(word)"
   ]
  },
  {
   "cell_type": "code",
   "execution_count": 73,
   "metadata": {},
   "outputs": [
    {
     "data": {
      "text/plain": [
       "0.2117647058823529"
      ]
     },
     "execution_count": 73,
     "metadata": {},
     "output_type": "execute_result"
    }
   ],
   "source": [
    "cPw('国家', '发达')"
   ]
  },
  {
   "cell_type": "markdown",
   "metadata": {},
   "source": [
    "Next we add the bigram to the Entry and Segment class:"
   ]
  },
  {
   "cell_type": "code",
   "execution_count": 74,
   "metadata": {},
   "outputs": [],
   "source": [
    "class Entry:\n",
    "# each entry in the chart has four components: Entry(word, start-position, log-probability, back-pointer)\n",
    "# the back-pointer in each entry links it to a previous entry that it extends\n",
    "    def __init__(self, word, start_position, log_probability, back_pointer=None):\n",
    "        self.word = word\n",
    "        self.start_position = start_position # start position\n",
    "        self.log_probability = log_probability # log probability\n",
    "        self.back_pointer = back_pointer # back_pointer\n",
    "    def __lt__(self, other):\n",
    "        return  self.log_probability < other.log_probability\n",
    "    def __eq__(self, other):\n",
    "        # return (self.word, self.start_position, self.log_probability, self.backptr) == (other.word, other.start_position, other.log_probability, other.back_pointer)\n",
    "\n",
    "        return (self.word, self.start_position, self.log_probability, self.back_pointer) == (other.word, other.start_position, other.log_probability, other.back_pointer)\n",
    "    def __str__(self):\n",
    "        return 'Entry(word='+self.word+', logprob='+str(self.log_probability)+ ')'\n",
    "\n",
    "class Segment:\n",
    "\n",
    "    def __init__(self, PUi, PBi):\n",
    "        self.PUi = PUi\n",
    "        self.PBi = PBi\n",
    "    def segment(self, text):\n",
    "        \"Return a list of words that is the best segmentation of text.\"\n",
    "        if not text: return []\n",
    "        # Initialize the heap \n",
    "        heap = [] # a list or priority queue containing the entries to be expanded, sorted on start-position or log-probability\n",
    "        # for each word that matches input at position 0\n",
    "\n",
    "        for i in range(min(len(text), maximum_word_length)):\n",
    "            word = text[:i+1]\n",
    "            if word in PUi or len(word) <= 2: # Check if word exists fron counts1w or Pw\n",
    "                heappush(heap, Entry(word, 0, log10((1-lam)*PUi(word)))) #  insert Entry (word, 0, logPw(word), None) to heap\n",
    "\n",
    "        chart = [None] * len(text)\n",
    "        finalindex = 0\n",
    "        while heap:\n",
    "            entry = heappop(heap) # top entry in the heap\n",
    "            endindex = len(entry.word) -1  + entry.start_position\n",
    "           \n",
    "            if finalindex < endindex :\n",
    "                finalindex = endindex\n",
    "            if chart[endindex]:  # if chart[endindex] exists entry\n",
    "                preventry = chart[endindex]\n",
    "                if entry.log_probability > preventry.log_probability: # then we check the current if has higher log probability\n",
    "                    chart[endindex] = entry\n",
    "                else:\n",
    "                    continue\n",
    "            else:  # if not previous entry for chart[endindex], chart[endindex] not exists\n",
    "                chart[endindex] = entry # store current entry to chart[endindex]\n",
    "                \n",
    "            #for each newword that matches input starting at position endindex+1\n",
    "            for i in range (endindex+1, min(len(text), maximum_word_length +endindex+1)):\n",
    "                newword = text[endindex+1:i+1]\n",
    "                try:\n",
    "                    cPw = PBi[entry.word + ' ' + newword]/float(PUi[entry.word])\n",
    "                except KeyError:\n",
    "                    cPw = PUi(word)\n",
    "                # print(cPw)\n",
    "                newentry = Entry(newword, endindex+1, entry.log_probability + log10(lam*cPw+(1-lam)*PUi(newword)), entry)\n",
    "                if not newentry in heap:\n",
    "                    heappush(heap, newentry)\n",
    "\n",
    "        #Get the best segmentation ##\n",
    "        finalindex = len(text) - 1\n",
    "        finalentry = chart[finalindex]\n",
    "        segmentation = []\n",
    "\n",
    "        while finalentry:\n",
    "            segmentation.insert(0,finalentry.word)\n",
    "            finalentry = finalentry.back_pointer\n",
    "        return segmentation # return array of best segmentation, and \" \".join used later to combine all array string items"
   ]
  },
  {
   "cell_type": "markdown",
   "metadata": {},
   "source": [
    "Notice that we have introduced probability lam * cPw + (1-lam) * Pui(newword) as the probability as of a newentry, thus implementing the idea of smoothing, combining the probabilty of unigram and bigram of a word. The cPw is given as below: cPw = PBi[entry.word + ' ' + newword] / float(PUi[entry.word]). "
   ]
  },
  {
   "cell_type": "markdown",
   "metadata": {},
   "source": [
    "In order to find the lam in the smoothing equation, we tried diffrent values "
   ]
  },
  {
   "cell_type": "markdown",
   "metadata": {},
   "source": [
    "lam = 0.7125\n",
    "dev.out score: 0.92\n",
    "\n",
    "lam = 0.98\n",
    "dev.out score: 0.90\n",
    "\n",
    "lam = 0.9\n",
    "dev.out score: 0.91\n",
    "\n",
    "lam = 0.7\n",
    "dev.out score: 0.92\n",
    "\n",
    "......"
   ]
  },
  {
   "cell_type": "markdown",
   "metadata": {},
   "source": [
    "We then set lam = 0.7125 and the score reachs 0.92 for dev.txt"
   ]
  },
  {
   "cell_type": "markdown",
   "metadata": {},
   "source": [
    "Here is a look at the segmentation output:"
   ]
  },
  {
   "cell_type": "code",
   "execution_count": null,
   "metadata": {},
   "outputs": [
    {
     "name": "stdout",
     "output_type": "stream",
     "text": [
      "中 美 在 沪 签订 高 科技 合作 协议\n",
      "新华社 上海 八月 三十一日 电 （ 记者 白 国 良 、 夏儒阁 ）\n",
      "“ 中 美 合作 高 科技 项目 签字 仪式 ” 今天 在 上海 举行 。\n",
      "上午 在 这里 签字 的 是 知识 信息 网络 通讯 技术 和 脱氧 核 糖 核 酸 生物 技术 两 个 项目 ， 同时 还 签订 了 语言 教 学 交流 合作 协议 。\n",
      "这 三 个 项目 是 分别 由 国务院 发展 研究 中心 国际 技术 经济 研究所 上海 分 所 和 上海市 浦东 继续 教育 中心 ， 与 美国 知识 信息 网络 公司 、 世界 学习 组织 、 海 赛克 公司 签订 的 。\n",
      "知识 信息 网络 公司 主席 ＣＥ麦奈 特 在 签字 仪式 上 说 ， 中 美 合作 高 科技 项目 的 签订 ， 具有 重要 的 意义 。\n",
      "他 还 期望 美 中 之间 建立 电子 高速 信息 公路 ， 使 纽约 股票 交易所 与 上海 证券 交易所 能 早日 实现 交易 及 信息 交流 。\n",
      "世界 学习 组织 董事长 朱 迪·梅罗 希望 在 今年 底 与 上海 建立 一 个 合资 的 教育 机构 。\n",
      "据 美方 人员 说 ， 今天 签订 的 三 个 项目 ， 得到 前来 上海 的 美国 商务 部长 布朗 的 关心 与 支持 。\n",
      "（ 完 ）\n",
      "中国 将 于 十二月 举办 “ 华 夏 艺术 节 ”\n",
      "新华社 北京 九月 一日 电 （ 记者 高 建 新 ）\n",
      "为 加强 海内外 炎黄子孙 的 文化 交流 和 联系 ， 中国 将 于 今年 十二月 八日 到 十八日 在 北京 和 深圳 两 地 同时 举办 “ 华 夏 艺术 节 ” 。\n",
      "这 是 一 次 由 人民 团体 、 政府 文化 部门 和 企业 联手 举办 的 艺术 盛会 。\n",
      "其 宗旨 是 ， 以 中华 民族 传统 文化 为 纽带 ， 联系 和 团结 海内外 同胞 ， 弘扬 民族 文化 ， 展示 祖国 优秀 艺术 的 魅力 ， 展示 华侨 、 华人 艺术 家 在 艺术 领域 和 世界 文化 交流 中 的 成就 和 风采 。\n",
      "艺术 节 的 内容 主要 包括 隆重 的 开幕式 和 闭幕 式 ， 各 具 特色 的 大型 文艺 表 演 以及 美 术 、 摄 影 展览 。\n",
      "据 介绍 ， 十二月 八日 在 深圳 体育馆 开幕 的 艺术 节 ， 将 集中 展示 二十 世纪 广为 流 传 的 中华 民族 艺术 精品 。\n",
      "从 十二月 九日 开始 ， 每 晚 都 将 在 深圳 大 剧 院 或 深圳 体育馆 演出 一 台 高 水平 的 节目 ， 分别 上 演芭蕾舞 、 相 声 小 品 、 京 剧 折子戏 和 海外 华人 艺术 家 、 艺术 团 表 演 的 节目 等 。\n",
      "艺术 节 期间 ， 将 在 北京 举办 传统 绘画临摹 大 奖 赛 及 作品 展览 和 《 华 夏 之 光 》 世界 华侨 华人 摄 影 艺术 展览 。\n",
      "这 次 艺术 节 由 中华 全 国 归国 华侨 联合会 与 文化 部 、 中央 电视 台 、 深圳市 文化 局 及 中国 华侨 国际 文化 交流 促进会 等 单位 联合 主办 。\n",
      "（ 完 ）\n",
      "江泽民 李鹏 电 唁 尼克松 逝世\n",
      "新华社 北京 ４月 ２３日 电\n",
      "中华 人民 共和国 主席 江泽民 和 国务院 总理 李鹏 ２３日 电 唁 美国 前 总统 理查 德 · 尼克松 逝世 。\n",
      "电 文 全 文 如下 ：\n",
      "惊悉 理查 德 · 尼克松 先生 不 幸 病逝 ， 谨 表示 深切 的 哀悼 。\n",
      "尼克松 先生 是 一 位 具有 战略 远见 和 政治 勇气 的 政治 家 。\n",
      "他 在 担 任 美国 总统 期间 ， 同 已 故 的 毛泽东 主席 和 周恩来 总理 一起 打开 了 中 美 关系 的 大门 ， 开辟 了 两 国 关系 的 新 局面 。\n",
      "卸 任 后 ， 尼克松 先生 继续 关心 中 美 关系 ， 为 维护 和 发展 两 国 关系 作出 了 重要 贡献 。\n",
      "我们 深信 ， 在 中 美 双方 的 共同 努力 下 ， 尼克松 先生 生 前 所 关心 的 中 美 关系 一定 会 得到 进一步 改善 和 发展 。\n",
      "谨 向 尼克松 先生 的 家属 致 以 亲切 的 慰问 。\n",
      "（ 完 ）\n",
      "费孝 通 被 授予麦格赛赛 奖\n",
      "新华社 马尼拉 ８月 ３１日 电 （ 记者 熊昌义 ）\n",
      "中国 著名 社会 学 家 、 全 国 人大 常委会 副委员长 费孝 通 博士 今天 下午 在 这里 被 授予 １９９４年 麦格赛赛 “ 社 区 领袖 ” 奖 。\n",
      "颁奖 仪式 在 菲律宾 文化 中心 隆重 举行 。\n",
      "菲律宾 总统 拉莫斯 出席 了 颁奖 仪式 并 向 荣获 今年 麦格赛赛 奖 的 ６ 名 杰出 人士 颁发 了 奖 章 、 奖 金 和 证 书 。\n",
      "费孝 通 在 致 答 谢 辞 时 说 ， “ 我 决 不 辜 负 友好 邻邦 给 我 的 鼓励 ， 不 论 今后 我 还 能 有 多 少 年 月 可以 供 我 支 配 ， 我 一定 要 兢兢业业 地 利用 每 一 刻 时间 ， 尽 力 做 一些 对 亚洲 人民 ， 乃至 全 世界 人民 有益 的 好 事 ， 使 人类 所 积累 的 知识 能 发生 推动 社会 向 更 美好 的 社会 发展 的 作用 ” 。\n",
      "以 菲律宾 前 总统 名 字 命名 的 拉 蒙 ·麦格赛赛 奖 被 称为 亚洲 的 诺 贝尔 奖 。\n",
      "该 奖 共 设 五 项 奖 ， 每 年 颁发 一 次 ， 分别 授予 在 政府 服务 、 公共 服务 、 社 区 领袖 、 新闻 、 文学 和 创造 性 交流 艺术 以及 国际 谅解 等 领域 作出 突出 贡献 的 个人 和 机构 。\n",
      "该 奖 自 １ ９ ５ ８ 年 开始 颁发 以来 ， 已 有 １ ７ ２ 位 个人 和 １ ４ 个 机构 获 奖 。\n",
      "（ 完 ）\n",
      "天津 对 台 合作 前景 广阔\n",
      "新华社 天津 九月 一日 电 （ 记者 刘庆禄 、 窦 合 义 ）\n",
      "天津市 市长 张 立昌 在 最近 召开 的 天津市 对 台 经济 工作 会议 上 说 ， 天津 与 台湾 产业 结构 相似 ， 技术 相近 ， 相互 间 有 很 强 的 互补性 ， 双方 合作 前景 广阔 ， 大 有 可 为 。\n",
      "据 统计 ， 到 今年 七月 底 ， 天津市 共 批准 台商 投资 企业 八百 七十一 家 ， 协议 投资额 九亿多 美元 ， 其中 台资 占 百分之七十 三点八 。\n",
      "台资 企业 数 和 协议 投资额 分别 列 全 市 外商 投资 企业 的 第三 位 和 第四 位 。\n",
      "一 批 投资额 较大 、 技术 较 高 的 台资 企业 在 天津 落户 。\n",
      "在 已 开业 的 台资 企业 中 ， 九成 以上 盈利 。\n",
      "张 立昌 说 ， 今后 天津市 将 继续 努力 为 台商 创造 一 个 有利 可 图 ， 有 钱 可 赚 的 投资 环境 。\n",
      "根据 “ 同 等 优先 、 适当 放宽 ” 的 原则 ， 天津市 将 调整 有关 政策 ， 以 增强 对 台商 的 吸引力 。\n",
      "他 要求 有关 部门 在 这 方面 尽快 制订 出 实施 方案 。\n",
      "据 会议 透露 ， 在 投资 方向 上 ， 天津 鼓励 台商 投向 基础 设施 、 基础 产业 、 资金 技术 密集型 产业 、 高 科技 项目 ， 参与 国有 大中型 企业 技术 改造 ， 投资 第三 产业 试点 项目 ， 并 欢迎 台湾 金融 资本 和 产业 资本 来 津 设立 金融 机构 。\n",
      "张 立昌 说 ， 为了 给 来 天津 投资 的 台商 提供 更 好 的 投资 环境 ， 天津市 将 强化 “ 天津市 台湾 同胞 投资 服务 中心 ” 的 职能 ， 做好 项目 审批 和 台资 企业 的 管理 ， 努力 办好 津 台 贸易 合作 中心 ， 为 台资 企业 提供 经济 信息 和 法律 咨询 。\n",
      "（ 完 ）\n",
      "朱 （ 容 加 金 旁 ） 基 电 唁 尼克松 逝世\n",
      "新华社 北京 ４月 ２３日 电\n",
      "中华 人民 共和国 国务院 副总理 朱 （ 容 加 金 旁 ） 基 ２３日 电 唁 美国 前 总统 理查 德 · 尼克松 逝世 。\n",
      "电 文 全 文 如下 ：\n",
      "尼克松 先生 是 一 位 具有 远见 卓识 的 政治 家 ， 生 前 一直 关心 中 美 关系 ， 先后 曾 七 次 访 华 ， 为 两 国 关系 的 改善 和 发展 做出 了 重要 贡献 ， 赢得 了 中国 人民 的 尊敬 。\n",
      "对 他 的 不 幸 逝世 ， 我 谨 表示 深切 哀悼 ， 并 向 尼克松 先生 的 家属 致 以 诚挚 的 慰问 。\n",
      "（ 完 ）\n",
      "澳 向 中国 提供 一 笔 贷款\n",
      "新华社 堪培拉 ８月 ３１日 电\n",
      "中国 政府 和 澳大利亚 政府 今天 签署 了 一 项 协议 ， 澳 方 将 向 中国 提供 １ ． ５ 亿 澳 元 优惠 财政 贷款 。\n",
      "根据 协议 ， 这 笔 贷款 将 主要 用于 电信 、 城市 供水 、 污 水 处理 等 基础 设施 项目 。\n",
      "为期 两 天 的 中国 政府 同 澳大利亚 政府 １９９４年 发展 援助 合作 年会 今天 在 墨 尔 本 结束 。\n",
      "以 外经贸部 部长 助理 龙永图 为 团长 的 中国 代表团 与 以 澳大利亚 国际 发展 局 援助 局 总 局长 弗拉 德 为 团长 的 澳大利亚 代表团 出席 了 年会 。\n",
      "会谈 结束 后 ， 双方 签署 了 会谈 纪 要 。\n",
      "与 此 同时 ， 澳 方 还 将 向 中国 提供 ２０００万 澳 元 的 技术 合作 赠款 ， 主要 用于 人员 培训 、 扶贫 及 医疗 卫生 等 项目 。\n",
      "（ 完 ）\n",
      "乔石 会见 俄罗斯 议员 团\n",
      "新华社 北京 九月 一日 电\n",
      "全 国 人大 常委会 委员长 乔石 今天 下午 在 人民 大会堂 会见 了 由 国家 杜马 副主席 文格罗夫斯基 和 俄罗斯 联邦 委员会 经济 改革 委员会 副主席 谢 尔盖恩科夫 率领 的 俄罗斯 议员 团 。\n",
      "代表团 应 外交 学会 邀请 于 八月 三十日 来 华 访问 ， 旨 在 了解 中国 经济 改革 情况 ， 经济 立法 在 建立 市场 经济 体制 过程 中 的 保障 作用 ， 特别是 在 经济 特区 建设 方面 的 成功 经验 。\n",
      "晚上 ， 外交 学会 会长 刘述卿 会见 并 宴 请 了 俄罗斯 客人 。\n",
      "（ 完 ）\n",
      "钱其琛 分别 会见 法国 、 乌拉圭 客人\n",
      "新华社 北京 八月 三十一日 电\n",
      "国务院 副总理 兼 外长 钱其琛 今天 下午 在 这里 分别 会见 了 法国 前 总理 雷 蒙 · 巴 尔 和 乌拉圭 东 岸 共和国 副外长 何 塞·马利亚· 加 米 奥 。\n",
      "钱其琛 对 法国 客人 说 ， 法国 是 第一 个 同 中国 建交 的 西方 大 国 ， 中 法 建交 三十 年 来 ， 尽管 有 一些 曲折 ， 但 总 的 来 说 ， 双边 关系 的 发展 是 令 人 满意 的 。\n",
      "他 指出 ， 不管 国际 形势 发生 什么 大 的 变化 ， 中 法 两 国 保持 友好 关系 对 世界 的 和平 、 稳定 与 发展 始终 是 重要 的 。\n",
      "双方 还 就 亚洲 的 安全 形势 和 经济 发展 以及 欧洲 的 一体化 等 有关 问题 交换 了 看法 。\n",
      "巴 尔 希望 法 中 关系 能够 得到 进一步 发展 和 加强 ， 并 表示 法国 愿 以 自己 的 优势 更加 积极 地 参与 中国 的 经济 建设 。\n",
      "外交 学会 会长 刘述卿 会见 时 在 座 。\n",
      "巴 尔 一行 应 外交 学会 邀请 于 三十日 抵 京 ， 他们 还 将 前往 上海 访问 。\n",
      "在 会见 乌拉圭 客人 时 ， 钱其琛 对 加 米 奥 副外长 来访 和 进行 政治 磋商 表示 欢迎 。\n",
      "他 说 ， 中 乌 建交 六 年 多 来 ， 两 国 友好 合作 关系 持续 稳步 发展 。\n",
      "乌拉圭 是 拉美 地区 同 中国 开展 贸易 最早 的 国家 之一 ， 双边 贸易 发展 较 快 。\n",
      "目前 ， 中国 是 乌拉圭 羊毛 的 最 大 买 主 。\n",
      "他 希望 今后 两 国 的 经贸 科技 合作 与 交流 进一步 扩大 和 发展 。\n",
      "钱其琛 对 乌拉圭 在 国际 事务 中 给予 中国 的 支持 表示 感谢 ， 对 乌拉圭 政府 坚持 一 个 中国 的 立场 表示 赞赏 。\n",
      "他 说 ， 拉美 是 一 个 充满 希望 的 大陆 ， 具有 巨大 的 发展 潜力 。\n",
      "近 几 年 来 ， 拉美 经济 稳定 增长 ， 这 为 进一步 加强 中 拉 经贸 合作 提供 了 良好 的 条件 。\n",
      "他 说 ， 中国 重视 加强 同 包括 乌拉圭 在内 的 南方 共同 市场 国家 和 其他 拉美 国家 的 友好 合作 关系 。\n",
      "加 米 奥 表示 ， 乌拉圭 重视 同 中国 发展 经济 贸易 、 科学 技术 和 文化 等 各 个 领域 的 关系 。\n",
      "他 说 ， 七十 年代 初 中国 恢复 了 在 联合国 的 合法 席位 ， 这 是 联合国 事务 中 的 一 个 重大 进展 。\n",
      "乌拉圭 高度 赞赏 中国 在 国际 事务 中 发挥 越来越 重要 的 作用 ， 特别是 在 建立 国际 政治 经济 新 秩序 中 所 起 的 积极 作用 。\n",
      "乌拉圭 坚决 支持 恢复 中国 在 关贸 总协定 中 的 缔约国 地位 ， 并 相信 它 在 未来 的 世界 贸易 组织 中 作出 积极 的 贡献 。\n",
      "今天 上午 ， 加 米 奥 代表 乌拉圭 政府 向 中国 纺织 总会 赠送 了 十七 吨 羊毛 ， 供 中国 有关 部门 、 科研 机构 和 高 等 院校 作为 科研 所 用 。\n",
      "外交部 副部长 刘 华 秋 二十九日 在 这里 同 加 米 奥 举行 了 工作 会谈 ， 双方 就 进一步 发展 双边 关系 和 共同 关心 的 国际 、 地区 问题 深入 地 交换 了 意见 ， 取得 了 广泛 的 一致 。\n",
      "加 米 奥 一行 是 应 外交部 邀请 于 八月 二十九日 来 华 访问 和 进行 两 国 外交部 间 政治 磋商 的 。\n",
      "他们 还 将 赴 杭州 访问 。\n",
      "（ 完 ）\n",
      "江泽民 会见 中国 红十字会 第六 次 全 国 会员 代表 大会 代表\n",
      "新华社 北京 四月 二十三日 电\n",
      "中共 中央 总书记 、 国家 主席 、 中国 红十字会 名誉 会长 江泽民 今天 在 中 南海 会见 了 中国 红十字会 第六 次 全 国 会员 代表 大会 代表 ， 并 代表 中共 中央 、 国务院 向 辛勤 工作 的 二千万 会员 ， 表示 亲切 的 问候 。\n",
      "江泽民 说 ， 中国 红十字会 为 国际性 的 从事 人道主义 工作 的 社会 救助 团体 ， 按照 国际 红十字 与 红 新 月 运动 的 基本 原则 ， 九十 年 来 为 人民 做 了 大量 好 事 ， 为 国家 的 发展 做出 了 不少 贡献 ， 以 实际 行动 赢得 了 广大 群众 的 尊敬 和 支持 。\n",
      "江泽民 说 ， 红十字 事业 是 一 项 崇高 的 社会 事业 ， 对 建设 社会主义 物质 文明 和 精神 文明 有 着 积极 的 促进 作用 。\n",
      "改革 开放 以来 ， 中国 红十字会 根据 新 的 实践 要求 ， 开展 了 卓有 成效 的 人道主义 工作 ， 在 社会 上 产生 了 广泛 而 良好 的 影响 ， 走出 了 有 中国 特色 的 发展 红十字 事业 的 新 路 。\n",
      "国家 副主席 荣毅仁 和 钱其琛 、 彭 （ 佩 去 亻 加 王 旁 ） 云 、 钱正英 等 参加 了 会见 。\n",
      "正在 国外 访问 的 国务院 总理 李鹏 给 大会 发来 了 贺信 。\n",
      "李鹏 在 贺信 中 说 ， 中国 红十字会 是 一 个 很 重要 的 人道主义 组织 ， 九十 年 来 ， 特别是 新 中国 成立 以来 ， 在 中国 人民 与 世界 人民 交往 中 发挥 重要 的 作用 。\n",
      "他 希望 中国 的 红十字 事业 更加 蓬勃 发展 ， 他 希望 全 社会 和 各 级 政府 都 来 关心 、 支持 这 项 崇高 的 事业 。\n",
      "江泽民 、 李鹏 、 乔石 、 刘 华 清 等 还 为 中国 红十字会 成立 九十 周年 暨 第六 次 全 国 代表 大会 题 了 词 。\n",
      "（ 完 ）\n",
      "李鹏 总理 为 国际 人口 与 发展 大会 即将 召开 发表 书面 讲话\n",
      "新华社 北京 八月 三十一日 电\n",
      "李鹏 总理 为 迎接 国际 人口 与 发展 大会 发表 书面 讲话 。\n",
      "他 认为 ， 中国 政府 把 人口 问题 与 社会 经济 问题 一同 规划 、 一 同 决策 、 一 同 实施 的 方针 是 正确 的 ， 是 行 之 有效 的 ， 是 成功 的 。\n",
      "李鹏 说 ， 今年 九月 初 ， 联合国 将 在 开 罗 召开 国际 人口 与 发展 大会 ， 并 以 “ 人口 、 持续 的 经济 增长 和 可 持续 的 发展 ” 为 主题 。\n",
      "这 表明 国际 社会 日益 清 醒 地 认识 到 人口 与 发展 密不可分 ， 并 准备 采取 共同 行动 。\n",
      "他 认为 这 是 一 次 具有 重要 意义 的 会议 ， 中国 政府 予以 高度 重视 ， 将 派 代表团 出席 会议 。\n",
      "李鹏 说 ， 中国 是 世界 上 人口 最 多 的 发展中 国家 。\n",
      "中国 政府 将 人口 问题 纳入 国民 经济 与 社会 发展 的 总体 规划 中 ， 始终 强调 人口 的 增长 要 与 社会 和 经济 的 发展 相 适应 ， 与 资源 利用 和 环境 保护 相 协调 。\n",
      "从 中国 的 基本 国情 出发 ， 中国 政府 确定 计划 生育 和 环境 保护 为 两 项 基本 国策 ， 实施 了 符合 中国 实际 的 人口 政策 和 计划 生育 方案 。\n",
      "同时 ， 中国 政府 还 制定 了 一 系列 重大 的 决策 和 措施 ， 如 保护 妇女 合法 权益 ， 促进 男女 平等 ， 大力 发展 妇 幼 保 健 事业 ， 努力 消除 贫困 ， 保护 生态 环境 ， 以 实现 可 持续 发展 。\n",
      "当前 ， 中国 经济 持续 增长 ， 社会 安 定 团结 ， 人民 生活 不断 改善 ， 人口 出 生 率 和 人口 自然 增长率 下降 到 较 低 的 水平 。\n",
      "李鹏 说 ， 人口 问题 是 当今 国际 社会 面临 的 重大 问题 。\n",
      "由于 国情 不同 ， 经济 发展 水平 、 文化 背景 、 历史 传统 、 社会 制度 各 异 ， 各 国 应该 根据 本 国 的 实际 情况 ， 制订 适宜 的 、 有效 的 人口 政策 。\n",
      "这 是 各 国 的 主权 ， 应当 受到 充分 尊重 。\n",
      "他 说 ， 中国 正 处在 建立 社会主义 市场 经济 体制 ， 加快 现代化 建设 的 关键 时期 ， 庞大 的 人口 绝 对 增长 量 仍然 制约 着 社会 与 经济 的 发展 ， 影响 着 人民 生活 水平 进一步 提高 ， 也 给 自然 资源 和 生态 环境 带来 沉重 的 压力 。\n",
      "因此 ， 在 相当 长 的 一 个 时期 内 ， 中国 将 在 大力 发展 经济 的 同时 ， 继续 抓紧 做好 计划 生育 工作 。\n",
      "中国 政府 坚信 ， 解决 好 中国 的 人口 问题 ， 不仅 是 对 中华 民族 的 繁荣 昌盛 和 子孙 后 代 的 幸福 负责 ， 也 是 为 稳定 全球 人口 作出 的 重要 贡献 。\n",
      "为 此 ， 中国 政府 十分 重视 并 积极 参与 国际 人口 活动 ， 并 衷 心 希望 国际 社会 从 切实 解决 人口 与 发展 问题 的 立场 出发 ， 求同存异 ， 通力 合作 ， 共同 为 稳定 全球 人口 、 创造 美好 未来 而 努力 奋斗 ！\n",
      "李鹏 强调 要 加快 推行 公务 员 制度\n",
      "新华社 北京 九月 一日 电\n"
     ]
    },
    {
     "name": "stdout",
     "output_type": "stream",
     "text": [
      "国务院 总理 李鹏 今天 在 中 南海 紫 光 阁 会见 中国 推行 公务 员 制度 经验 交流会 全体 代表 时 指出 ， 推行 公务 员 制度 是 中国 政治 体制 改革 的 一 项 重要 内容 ， 是 干部 人事 制度 的 重大 改革 ， 是 建立 社会主义 市场 经济 体制 的 客观 需要 ， 要 有 领导 、 有 步骤 地 加快 推行 步伐 。\n",
      "这 次 推行 公务 员 制度 经验 交流会 是 昨天 开始 召开 的 ， 各 省 、 自治区 、 直辖市 人事 厅 局长 、 国务院 各 部 委 、 直属 机构 人事 部门 的 负责人 共 一百二十多 人 出席 了 会议 。\n",
      "李鹏 肯定 了 一 年 来 国家 公务 员 制度 推行 工作 取得 的 成效 。\n",
      "他 说 ， 我们 要 认真 总结 和 推广 这些 好 的 经验 ， 建立 起 激励 竞争 和 勤 政 廉政 机制 ， 建立 一 支 以 为 人民 服务 为 宗旨 、 密切 联系 群众 、 精干 高效 、 廉洁奉公 、 忠 于 职 守 的 国家 公务 员 队伍 ， 增强 政府 机关 的 生机 和 活力 。\n",
      "李鹏 提出 ， 推行 公务 员 制度 ， 要 按照 《 国家 公务 员 暂行 条例 》 依法 办事 ， 不 能 有 随意性 。\n",
      "要 把 这 项 工作 作为 政治 体制 改革 的 一 件 大 事 来 抓 ， 结合 改革 、 精 简 机构 来 推行 公务 员 制度 ； 要 形成 公务 员 的 新 陈 代 谢 机制 ， 使 青年 人才 不断 地 进入 到 公务 员 队伍 当 中 。\n",
      "国务 委员 李 贵 鲜 、 罗干 参加 了 会见 。\n",
      "（ 完 ）\n",
      "马来西亚 副总理 结束 访 华\n",
      "新华社 上海 八月 三十一日 电 （ 记者 周解蓉 ）\n",
      "马来西亚 副总理 安 瓦 尔 今天 下午 结束 了 对 中国 的 访问 ， 离开 上海 前往 东京 。\n",
      "安 瓦 尔 于 昨天 下午 自 南京 抵达 上海 。\n",
      "昨晚 ， 上海市 副市长 赵启 正 代表 黄菊 市长 会见 并 宴 请 了 安 瓦 尔 一行 。\n",
      "今天 上午 ， 安 瓦 尔 出席 了 闵行 中 马 合资 企业 奠基 仪式 ， 随后 参观 了 浦东 金 桥 出口 加工区 。\n",
      "（ 完 ）\n",
      "李鹏 会见 澳门 总 督韦奇立\n",
      "新华社 北京 九月 一日 电\n",
      "国务院 总理 李鹏 今天 在 这里 会见 澳门 总 督韦奇立 时 说 ， 中国 政府 对 澳门 的 政策 是 一贯 的 、 坚定不移 的 ， 并 将 根据 “ 一 国 两 制 ” 的 方针 ， 严格 按照 中 葡 联合 声明 和 澳门 基本法 的 规定 ， 保持 澳门 的 稳定 和 发展 。\n",
      "李鹏 对 韦奇立 再次 来访 表示 欢迎 。\n",
      "他 说 ： “ 近年 来 中 葡 两 国 在 各 个 领域 的 友好 合作 关系 不断 发展 ， 两 国 高层 领导人 互访 增多 。\n",
      "江泽民 主席 、 荣毅仁 副主席 和 我 本人 都 访问 了 葡萄牙 ， 席尔 瓦 总理 今年 四月 访问 了 我 国 。 ”\n",
      "他 说 ， 中 葡 双边 关系 的 顺利 发展 为 双方 在 澳门 问题 上 的 合作 奠定 了 基础 。\n",
      "李鹏 指出 ， 澳门 问题 是 中 葡 双边 关系 中 的 一 个 重要 组成 部分 。\n",
      "中 葡 两 国 之间 、 内地 与 澳门 之间 保持 良好 关系 ， 这 有利于 澳门 的 社会 稳定 和 经济 发展 。\n",
      "李鹏 说 ， 自 中 葡 联合 声明 生效 以来 ， 双方 为 贯彻 执行 联合 声明 做 了 不少 工作 ， 合作 是 有 成效 的 。\n",
      "近年 来 ， 在 双方 的 共同 努力 下 ， 解决 了 不少 双方 共同 关心 的 问题 ， 在 澳门 过渡 时期 的 语文 、 公务 员 、 法律 三 大 问题 上 也 取得 了 不同 程度 的 进展 。\n",
      "他 说 ： “ 我们 希望 澳门 政府 对于 这 三 个 问题 继续 给予 关注 ， 以 求 得 最后 的 妥善 解决 。 ”\n",
      "李鹏 说 ， “ 韦奇立 总 督 为 澳门 问题 的 顺利 解决 做 了 许多 有益 的 工作 ， 对 此 我们 表示 赞赏 。 ”\n",
      "李鹏 还 强调 ， 随着 １９９９年 的 日益 临近 ， 中 葡 双方 在 澳门 问题 上 还 有 大量 的 工作 要 做 ， 任务 很 重 。\n",
      "双方 应 本 着 友好 协商 的 精神 ， 解决 尚 待 解决 的 问题 。\n",
      "他 希望 澳门 政府 就 涉及 澳门 平稳 过渡 和 政 权 顺利 交接 的 重大 问题 进一步 加强 同 中方 的 磋商 与 合作 ， 以 利于 澳门 的 稳定 和 发展 。\n",
      "李鹏 说 ： “ 我们 相信 ， 通过 中 葡 双方 的 友好 合作 和 共同 努力 ， 一定 能 实现 澳门 的 平稳 过渡 和 政 权 的 顺利 交接 。\n",
      "韦奇 立愉 快 地 回忆 了 他 １９９１年 和 １９９２年 同 李鹏 总理 两 次 会见 的 情 景 ， 并 高度 评价 了 中国 政府 和 李鹏 总理 本人 为 葡 中 关系 的 发展 和 澳门 问题 的 解决 所 做 的 重要 贡献 。\n",
      "韦奇 立 说 ， 他 高兴 地 看到 中国 在 经济 和 社会 生活 方面 取得 了 重大 进展 ， 并 表示 完全 理解 中国 的 现代化 建设 需要 在 稳定 的 情况 下 进行 。\n",
      "他 说 ， 中国 的 稳定 和 发展 有利于 世界 的 和平 与 发展 ， 中国 的 繁荣 与 稳定 是 澳门 繁荣 与 稳定 的 根本 保证 。\n",
      "葡萄 牙 政府 和 他 本人 将 为 两 国 关系 的 继续 发展 和 澳门 问题 的 顺利 解决 继续 作出 努力 。\n",
      "（ 完 ）\n",
      "德 外长 欢迎 北约 对 塞族 的 最后 通牒\n",
      "新华社 波恩 ４月 ２３日 电\n",
      "德国 外长 金 克尔 ２３日 说 ， 他 欢迎 北约 对 波黑 塞族 发出 的 最后 通牒 。\n",
      "他 同时 也 要求 举行 新 的 谈判 以 结束 波黑 内 战 。\n",
      "金 克尔 说 ， 北约 的 决定 是 “ 正确 的 和 必要 的 ” 。\n",
      "但 作为 军事 措施 的 辅助 手段 ， 重 开 谈判 同样 是 必要 的 。\n",
      "他 要求 联合国 、 欧洲 联盟 、 美国 和 俄罗斯 共同 提出 新 的 倡议 ， 以 使 波黑 交战 各 方 回到 谈判 桌 旁 。\n",
      "北约 １ ６ 国 ２２日 要求 波黑 塞族 武装 在 格 林 尼 治 时间 ４月 ２４ 日 零 点 之前 撤离 戈拉日代 市中心 ３ 公里 之外 ， 并 保证 联合国 的 人道主义 援助 畅 通 无 阻 ， 否则 北约 将 对 塞族 武装 实行 空中 打击 。\n",
      "（ 完 ）\n",
      "中国 化学 工业 加快 对 外 开放 步伐\n",
      "新华社 北京 八月 三十一日 电 （ 记者 孙杰 ）\n",
      "中国 化学 工业 加快 对 外 开放 步伐 ， 大 步 走 向 世界 。\n",
      "据 化工 部 介绍 ， 一九七八年 ， 中国 化工 进出口 总额 不 到 三亿 美元 ， 去年 达到 七 十五亿 美元 ， 出口 创汇 超过 一千万 美元 的 化工 企业 已 有 三十 家 。\n",
      "中国 化工 成套 设备 出口 实现 了 零 的 突破 ， 先后 向 印尼 出口 两 套 年 产 四万 吨 离 子膜 烧碱 装置 ， 向 伊朗 出口 年 产 二十万 吨 纯 碱 成套 设备 。\n",
      "技术 出口 也 有 了 新 的 进展 。\n",
      "目前 ， 中国 可 供 出口 的 技术 达 五十二 项 。\n",
      "据 不完全 统计 ， 中国 三 年 来 出口 蒽醌 法 双 氧 水 、 变 压 吸附 等 技术 二十余 项 。\n",
      "到 今年 上半年 ， 中国 化工 部 与 十五 家 国际 大型 化工 公司 签订 合作 协议 。\n",
      "十 年 来 ， 中国 化工 行业 累计 吸收 外资 达 八 十五亿 美元 ， 用 于 化肥 、 石化 的 建设 和 技术 改造 。\n",
      "（ 完 ）\n",
      "中国 建立 彗星 撞击 木星 观测 网\n",
      "新华社 南京 四月 二十三日 电 （ 记者 杨福田 ）\n",
      "中国 科学院 紫金山 天文台 今天 宣布 ， 中国 已经 建立 全国性 观测 苏梅克 — 列维 ９ 号 彗星 撞击 木星 的 网络 ， 并 制订 了 规模 宏大 的 天文 监测 计划 。\n",
      "据 专家 介绍 ， 木星 是 太阳系 中 最大 的 一 颗 行星 ， 与 地球 一样 环绕 太阳 运转 。\n",
      "这 次 观测 彗星 撞击 木星 对于 研究 和 预测 彗星 撞击 地球 具有 十分 重要 的 意义 。\n",
      "中国 天文 学 界 对 这 次 彗星 撞击 木星 现象 也 十分 重视 ， 并 密切 关注 其 发展 变化 。\n",
      "近日 ， 在 中国 科学院 和 国家 自然 科学 基金 会 的 支持 下 ， 来自 全 国 各 地 的 四十多 位 天文学家 在 南京 召开 了 苏梅克 — 列维 ９ 号 彗星 撞击 木星 监 视 计划 讨论会 。\n",
      "专家们 认为 ， 这 次 罕见 的 重大 天文 现象 需要 全球 作 连续 监测 ， 中国 处于 日本 和 欧洲 之间 的 一 个 重要 的 经 度 位置 ， 中国 的 观测 资料 是 国际 联测 中 不 可 缺少 或 替代 的 组成 部分 。\n",
      "届时 ， 中国 将 投入 所有 的 先进 天文 设备 进行 观测 ， 其中 包括 二 点 一 六 米 口 径 的 反 光 望远镜 、 一点二 六 米 口 径 的 红外 望远镜 、 射电 望远镜 。\n",
      "二十五 米 口 径 的 分 米 、 厘米 波 段 望远镜 、 十 米 波 段 望远镜 以及 先进 的 光 学 望远镜 终 端 设备 。\n",
      "南京 紫金山 天文台 有 四十多 年 关于 彗星 、 小 行星 的 观测 研究 经验 、 该 台 行星 研究 室 是 中国 唯一 的 长期 从事 彗星 、 小 行星 研究 的 科研 机构 ， 自 一九八八年 起 又 开始 研究 太阳系 天体 碰撞 问题 。\n",
      "该 台 行星 专家 还 多 次 参加 关于 彗星 、 小 行星 撞击 地球 危险 性 的 国际 学术 讨论会 。\n",
      "（ 完 ）\n",
      "国际 红十字会 专家 结束 访 华\n",
      "新华社 北京 四月 二十三日 电\n",
      "外交部 发言人 今天 说 ， 应 中国 红十字会 邀请 ， 红十字 国际 委员会 处 长 格丁纳格 一行 四 人 ， 于 四月 十八日 至 二十三日 访问 中国 。\n",
      "发言人 说 ， 双方 就 进一步 开展 交流 与 合作 问题 举行 了 友好 、 坦诚 、 求实 的 专家 级 工作 会谈 。\n",
      "会谈 就 一些 原则 和 具体 问题 进行 了 深入 讨论 ， 达成 了 一些 谅解 。\n",
      "双方 一致 认为 会谈 具有 积极 成果 。\n",
      "双方 将 继续 以 务实 的 精神 共同 努力 ， 加强 合作 。\n",
      "（ 完 ）\n",
      "中国 海关 总署 将 实施 对 知识 产权 的 保护 措施\n",
      "新华社 北京 八月 三十一日 电\n",
      "海关 总署 日前 发出 公 告 ， 根据 国家 现行 有关 法律 规定 和 国务院 《 关于 进一步 加强 知识 产权 保护 工作 的 决定 》 ， 海关 将 从 一九九四年 九月 十五日 起 在 进 出境 环节 实施 对 知识 产权 的 保护 措施 。\n"
     ]
    }
   ],
   "source": [
    "segmenter = Segment(PUi, PBi)\n",
    "with open(\"../data/input/dev.txt\") as f:\n",
    "    for line in f:\n",
    "        print(\" \".join(segmenter.segment(line.strip())))"
   ]
  },
  {
   "cell_type": "markdown",
   "metadata": {},
   "source": [
    "### 3. Summary"
   ]
  },
  {
   "cell_type": "markdown",
   "metadata": {},
   "source": [
    "In this homework, we have\n",
    " 1. Implemented the baseline system\n",
    " 2. Improve the baseline system with bigram and smoothing\n",
    " 3. Reach a score of 0.92 for dev.txt and score 0.79 of small test.out"
   ]
  }
 ],
 "metadata": {
  "kernelspec": {
   "display_name": "Python 3",
   "language": "python",
   "name": "python3"
  },
  "language_info": {
   "codemirror_mode": {
    "name": "ipython",
    "version": 3
   },
   "file_extension": ".py",
   "mimetype": "text/x-python",
   "name": "python",
   "nbconvert_exporter": "python",
   "pygments_lexer": "ipython3",
   "version": "3.7.4"
  }
 },
 "nbformat": 4,
 "nbformat_minor": 2
}
